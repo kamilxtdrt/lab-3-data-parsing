{
 "cells": [
  {
   "cell_type": "code",
   "execution_count": 16,
   "id": "b2a1a5e7",
   "metadata": {},
   "outputs": [],
   "source": [
    "import pandas as pd\n",
    "import string\n",
    "import re\n",
    "import matplotlib.pyplot as plt\n"
   ]
  },
  {
   "cell_type": "code",
   "execution_count": 17,
   "id": "20dd9368",
   "metadata": {},
   "outputs": [],
   "source": [
    "df_raw = pd.read_csv(\"data/messy_strings.csv\")"
   ]
  },
  {
   "cell_type": "code",
   "execution_count": 18,
   "id": "08f29520",
   "metadata": {},
   "outputs": [],
   "source": [
    "\n",
    "def clean_strings(strings):\n",
    "    cleaned = strings.str.lower()\n",
    "\n",
    "\n",
    "    punctuation = string.punctuation\n",
    "    pattern = f\"[{re.escape(punctuation)}]\"\n",
    "    cleaned = cleaned.str.replace(pattern, '', regex=True)\n",
    "\n",
    "\n",
    "    cleaned = cleaned.str.strip()\n",
    "    return cleaned"
   ]
  },
  {
   "cell_type": "code",
   "execution_count": 19,
   "id": "5538dec2",
   "metadata": {},
   "outputs": [],
   "source": [
    "df_raw['clean'] = clean_strings(df_raw['raw'])"
   ]
  },
  {
   "cell_type": "code",
   "execution_count": 20,
   "id": "e43f30ca",
   "metadata": {},
   "outputs": [],
   "source": [
    "total_rows = len(df_raw['clean'])\n",
    "\n",
    "nunique = df_raw['clean'].nunique()\n",
    "\n",
    "most_common = (df_raw['clean'].value_counts()).idxmax()"
   ]
  },
  {
   "cell_type": "code",
   "execution_count": 21,
   "id": "4d74f294",
   "metadata": {},
   "outputs": [],
   "source": [
    "df_raw['clean'].to_csv('data/messy_strings_clean.csv', index=False)"
   ]
  },
  {
   "cell_type": "code",
   "execution_count": null,
   "id": "8f3255bd",
   "metadata": {},
   "outputs": [
    {
     "ename": "SyntaxError",
     "evalue": "invalid character '’' (U+2019) (2466452768.py, line 1)",
     "output_type": "error",
     "traceback": [
      "  \u001b[36mCell\u001b[39m\u001b[36m \u001b[39m\u001b[32mIn[22]\u001b[39m\u001b[32m, line 1\u001b[39m\n\u001b[31m    \u001b[39m\u001b[31mdf_raw[’clean’].value_counts().head(5).plot.bar()\u001b[39m\n           ^\n\u001b[31mSyntaxError\u001b[39m\u001b[31m:\u001b[39m invalid character '’' (U+2019)\n"
     ]
    }
   ],
   "source": [
    "df_raw['clean'].value_counts().head(5).plot.bar()"
   ]
  }
 ],
 "metadata": {
  "kernelspec": {
   "display_name": "lab_3",
   "language": "python",
   "name": "python3"
  },
  "language_info": {
   "codemirror_mode": {
    "name": "ipython",
    "version": 3
   },
   "file_extension": ".py",
   "mimetype": "text/x-python",
   "name": "python",
   "nbconvert_exporter": "python",
   "pygments_lexer": "ipython3",
   "version": "3.13.5"
  }
 },
 "nbformat": 4,
 "nbformat_minor": 5
}
